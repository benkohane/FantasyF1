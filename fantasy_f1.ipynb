{
 "cells": [
  {
   "cell_type": "code",
   "execution_count": 3,
   "metadata": {},
   "outputs": [],
   "source": [
    "import requests\n",
    "import json\n",
    "import os\n",
    "import logging\n",
    "\n",
    "# You can also log to the console by using the StreamHandler (optional)\n",
    "console_handler = logging.StreamHandler()\n",
    "console_handler.setLevel(logging.INFO)  # Display INFO level and above in the console\n",
    "console_handler.setFormatter(logging.Formatter(\"%(asctime)s - %(levelname)s - %(message)s\"))\n",
    "logging.getLogger().addHandler(console_handler)\n"
   ]
  },
  {
   "cell_type": "code",
   "execution_count": 4,
   "metadata": {},
   "outputs": [],
   "source": [
    "API_URL = \"http://api.jolpi.ca/ergast/f1/2024/21/results.json\"\n",
    "\n",
    "def fetch_race_results():\n",
    "    \"\"\"Fetch the F1 race results for the specified round.\"\"\"\n",
    "    logging.info(\"Starting to fetch race results from API...\")\n",
    "    try:\n",
    "        response = requests.get(API_URL)\n",
    "        response.raise_for_status()  # Check if request was successful\n",
    "        data = response.json()\n",
    "        logging.info(\"Successfully fetched race results.\")\n",
    "        \n",
    "        # Extracting only the results from the data\n",
    "        results = data['MRData']['RaceTable']['Races'][0]['Results']\n",
    "        return results\n",
    "    except Exception as e:\n",
    "        logging.error(f\"Error fetching data: {e}\")\n",
    "        return None\n"
   ]
  },
  {
   "cell_type": "code",
   "execution_count": 5,
   "metadata": {},
   "outputs": [],
   "source": [
    "PICKS_FILE = \"player_picks.json\"\n",
    "\n",
    "def save_picks(picks):\n",
    "    \"\"\"Save player picks locally to a JSON file.\"\"\"\n",
    "    try:\n",
    "        logging.info(f\"Saving picks for {len(picks)} players.\")\n",
    "        with open(PICKS_FILE, 'w') as file:\n",
    "            json.dump(picks, file)\n",
    "        logging.info(\"Picks saved successfully.\")\n",
    "    except Exception as e:\n",
    "        logging.error(f\"Error saving picks: {e}\")\n",
    "\n",
    "def load_picks():\n",
    "    \"\"\"Load player picks from the JSON file.\"\"\"\n",
    "    if os.path.exists(PICKS_FILE):\n",
    "        try:\n",
    "            with open(PICKS_FILE, 'r') as file:\n",
    "                picks = json.load(file)\n",
    "            logging.info(\"Picks loaded successfully.\")\n",
    "            return picks\n",
    "        except Exception as e:\n",
    "            logging.error(f\"Error loading picks: {e}\")\n",
    "            return {}\n",
    "    logging.info(\"No previous picks found.\")\n",
    "    return {}\n"
   ]
  },
  {
   "cell_type": "code",
   "execution_count": 6,
   "metadata": {},
   "outputs": [],
   "source": [
    "def get_player_picks():\n",
    "    \"\"\"Prompt user for their driver picks.\"\"\"\n",
    "    picks = {}\n",
    "    num_players = int(input(\"Enter number of players: \"))\n",
    "    logging.info(f\"Number of players: {num_players}\")\n",
    "    for i in range(num_players):\n",
    "        player = input(f\"Enter Player {i+1}'s name: \")\n",
    "        drivers = input(f\"Enter {player}'s driver picks (comma-separated codes): \").split(',')\n",
    "        picks[player] = [d.strip().upper() for d in drivers]\n",
    "        logging.info(f\"Player {player} picked drivers: {', '.join(picks[player])}\")\n",
    "    save_picks(picks)\n",
    "    return picks\n"
   ]
  },
  {
   "cell_type": "code",
   "execution_count": 7,
   "metadata": {},
   "outputs": [],
   "source": [
    "POINTS = {1: 25, 2: 18, 3: 15, 4: 12, 5: 10, 6: 8, 7: 6, 8: 4, 9: 2, 10: 1}\n",
    "\n",
    "def calculate_points(results, picks):\n",
    "    \"\"\"Calculate points for each player based on race results and picks.\"\"\"\n",
    "    logging.info(\"Calculating points for each player...\")\n",
    "    driver_points = {}\n",
    "    for result in results:\n",
    "        position = int(result['position'])\n",
    "        code = result['Driver']['code']\n",
    "        driver_points[code] = POINTS.get(position, 0)\n",
    "\n",
    "    player_scores = {}\n",
    "    for player, drivers in picks.items():\n",
    "        score = sum(driver_points.get(driver, 0) for driver in drivers)\n",
    "        player_scores[player] = score\n",
    "        logging.info(f\"Player {player} scored {score} points.\")\n",
    "    return player_scores\n"
   ]
  },
  {
   "cell_type": "code",
   "execution_count": 8,
   "metadata": {},
   "outputs": [],
   "source": [
    "def main():\n",
    "    \"\"\"Main function to fetch results, get picks, and calculate scores.\"\"\"\n",
    "    logging.info(\"Program started.\")\n",
    "    \n",
    "    # Load or prompt for player picks\n",
    "    picks = load_picks()\n",
    "    if not picks:\n",
    "        logging.info(\"No picks found, prompting for player picks.\")\n",
    "        picks = get_player_picks()\n",
    "\n",
    "    # Fetch race results\n",
    "    data = fetch_race_results()\n",
    "    if data:\n",
    "        try:\n",
    "            logging.info(\"Race results fetched successfully.\")\n",
    "            results = data\n",
    "            scores = calculate_points(results, picks)\n",
    "\n",
    "            # Display results\n",
    "            logging.info(\"Displaying fantasy scores.\")\n",
    "            print(\"\\nFantasy F1 Scores:\")\n",
    "            for player, score in scores.items():\n",
    "                print(f\"{player}: {score} points\")\n",
    "        except KeyError as e:\n",
    "            logging.error(f\"Error parsing data: {e}\")\n",
    "    else:\n",
    "        logging.error(\"No data fetched.\")\n",
    "        print(\"No data fetched.\")\n"
   ]
  },
  {
   "cell_type": "code",
   "execution_count": 9,
   "metadata": {},
   "outputs": [
    {
     "name": "stdout",
     "output_type": "stream",
     "text": [
      "\n",
      "Fantasy F1 Scores:\n",
      "Ben: 25 points\n"
     ]
    }
   ],
   "source": [
    "main()"
   ]
  },
  {
   "cell_type": "code",
   "execution_count": null,
   "metadata": {},
   "outputs": [],
   "source": []
  }
 ],
 "metadata": {
  "kernelspec": {
   "display_name": "Python (venv)",
   "language": "python",
   "name": "venv"
  },
  "language_info": {
   "codemirror_mode": {
    "name": "ipython",
    "version": 3
   },
   "file_extension": ".py",
   "mimetype": "text/x-python",
   "name": "python",
   "nbconvert_exporter": "python",
   "pygments_lexer": "ipython3",
   "version": "3.12.3"
  }
 },
 "nbformat": 4,
 "nbformat_minor": 2
}
